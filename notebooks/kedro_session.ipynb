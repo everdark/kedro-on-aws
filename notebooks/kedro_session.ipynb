{
 "cells": [
  {
   "cell_type": "code",
   "execution_count": null,
   "metadata": {},
   "outputs": [],
   "source": [
    "# we can use this code to init kedro session within a normal ipython REPL\n",
    "from pathlib import Path\n",
    "\n",
    "from kedro.extras.extensions.ipython import reload_kedro\n",
    "\n",
    "cwd = Path.cwd()\n",
    "project_path = cwd.parent\n",
    "reload_kedro(path=project_path, env=\"base\")"
   ]
  }
 ],
 "metadata": {
  "language_info": {
   "name": "python"
  },
  "orig_nbformat": 4
 },
 "nbformat": 4,
 "nbformat_minor": 2
}
