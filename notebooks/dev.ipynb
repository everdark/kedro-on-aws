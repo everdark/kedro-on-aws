{
 "cells": [
  {
   "cell_type": "markdown",
   "id": "de0ca884",
   "metadata": {},
   "source": [
    "# dev"
   ]
  },
  {
   "cell_type": "code",
   "execution_count": 1,
   "id": "9b6521e0",
   "metadata": {},
   "outputs": [],
   "source": [
    "# constants\n",
    "bucket = \"k9-kedro-on-aws\"\n",
    "tbl = \"transactions\""
   ]
  },
  {
   "cell_type": "markdown",
   "id": "c74d6e7a",
   "metadata": {},
   "source": [
    "## Check AWS conf\n",
    "\n",
    "Setup the credentials in your preferred manner."
   ]
  },
  {
   "cell_type": "code",
   "execution_count": 2,
   "id": "807299ca",
   "metadata": {},
   "outputs": [
    {
     "name": "stdout",
     "output_type": "stream",
     "text": [
      "{\n",
      "    \"UserId\": \"AIDARAMT7QKYJ6DR7ITQU\",\n",
      "    \"Account\": \"069566694064\",\n",
      "    \"Arn\": \"arn:aws:iam::069566694064:user/k9\"\n",
      "}\n"
     ]
    }
   ],
   "source": [
    "%%bash\n",
    "aws sts get-caller-identity"
   ]
  },
  {
   "cell_type": "code",
   "execution_count": 3,
   "id": "4c32f962",
   "metadata": {},
   "outputs": [
    {
     "name": "stdout",
     "output_type": "stream",
     "text": [
      "                           PRE transactions/\n"
     ]
    }
   ],
   "source": [
    "%%bash -s $bucket\n",
    "aws s3 ls $1"
   ]
  },
  {
   "cell_type": "markdown",
   "id": "589d54bb",
   "metadata": {},
   "source": [
    "## Check S3 connection on pyspark\n",
    "\n",
    "Note that we will need two additional `jars` in order to access AWS S3 from Spark:\n",
    "\n",
    "- [hadoop-aws](https://mvnrepository.com/artifact/org.apache.hadoop/hadoop-aws)\n",
    "- [aws-java-sdk-bundle](https://mvnrepository.com/artifact/com.amazonaws/aws-java-sdk-bundle)\n",
    "\n",
    "Make sure they are present in your `SPARK_HOME` jars folder.\n",
    "In the case of a `pip install pyspark`, the folder should be something like `<your-python-lib-path>/site-packages/pyspark/jars`."
   ]
  },
  {
   "cell_type": "code",
   "execution_count": 4,
   "id": "6041424c",
   "metadata": {},
   "outputs": [],
   "source": [
    "from pyspark.sql import SparkSession\n",
    "\n",
    "# spark configuration is handled by conf/base/spark.yml\n",
    "# refer to the src/hooks.py for details\n",
    "spark = SparkSession.builder.getOrCreate()"
   ]
  },
  {
   "cell_type": "code",
   "execution_count": 5,
   "id": "8f5390c4",
   "metadata": {},
   "outputs": [
    {
     "name": "stdout",
     "output_type": "stream",
     "text": [
      "23/01/08 19:23:04 WARN MetricsConfig: Cannot locate configuration: tried hadoop-metrics2-s3a-file-system.properties,hadoop-metrics2.properties\n"
     ]
    },
    {
     "name": "stderr",
     "output_type": "stream",
     "text": [
      "\r",
      "[Stage 0:>                                                          (0 + 1) / 1]\r",
      "\r",
      "                                                                                \r"
     ]
    },
    {
     "name": "stdout",
     "output_type": "stream",
     "text": [
      "23/01/08 19:23:08 WARN DataSource: Found duplicate column(s) in the data schema and the partition schema: `date`\n",
      "root\n",
      " |-- gas: long (nullable = true)\n",
      " |-- hash: string (nullable = true)\n",
      " |-- input: string (nullable = true)\n",
      " |-- nonce: long (nullable = true)\n",
      " |-- value: double (nullable = true)\n",
      " |-- block_number: long (nullable = true)\n",
      " |-- block_hash: string (nullable = true)\n",
      " |-- transaction_index: long (nullable = true)\n",
      " |-- from_address: string (nullable = true)\n",
      " |-- to_address: string (nullable = true)\n",
      " |-- gas_price: long (nullable = true)\n",
      " |-- receipt_cumulative_gas_used: long (nullable = true)\n",
      " |-- receipt_gas_used: long (nullable = true)\n",
      " |-- receipt_contract_address: string (nullable = true)\n",
      " |-- receipt_status: long (nullable = true)\n",
      " |-- receipt_effective_gas_price: long (nullable = true)\n",
      " |-- transaction_type: long (nullable = true)\n",
      " |-- max_fee_per_gas: long (nullable = true)\n",
      " |-- max_priority_fee_per_gas: long (nullable = true)\n",
      " |-- block_timestamp: timestamp (nullable = true)\n",
      " |-- date: date (nullable = true)\n",
      " |-- last_modified: timestamp (nullable = true)\n",
      "\n"
     ]
    }
   ],
   "source": [
    "spark.read.parquet(f\"s3a://{bucket}/{tbl}\").printSchema()"
   ]
  },
  {
   "cell_type": "markdown",
   "id": "a11ff766",
   "metadata": {},
   "source": [
    "## Test kedro catalog"
   ]
  },
  {
   "cell_type": "code",
   "execution_count": 6,
   "id": "42e12c25",
   "metadata": {},
   "outputs": [
    {
     "data": {
      "text/html": [
       "<pre style=\"white-space:pre;overflow-x:auto;line-height:normal;font-family:Menlo,'DejaVu Sans Mono',consolas,'Courier New',monospace\"><span style=\"font-weight: bold\">[</span><span style=\"color: #008000; text-decoration-color: #008000\">'transactions'</span>, <span style=\"color: #008000; text-decoration-color: #008000\">'parameters'</span>, <span style=\"color: #008000; text-decoration-color: #008000\">'params:train_fraction'</span>, <span style=\"color: #008000; text-decoration-color: #008000\">'params:random_state'</span>, <span style=\"color: #008000; text-decoration-color: #008000\">'params:target_column'</span><span style=\"font-weight: bold\">]</span>\n",
       "</pre>\n"
      ],
      "text/plain": [
       "\u001b[1m[\u001b[0m\u001b[32m'transactions'\u001b[0m, \u001b[32m'parameters'\u001b[0m, \u001b[32m'params:train_fraction'\u001b[0m, \u001b[32m'params:random_state'\u001b[0m, \u001b[32m'params:target_column'\u001b[0m\u001b[1m]\u001b[0m\n"
      ]
     },
     "metadata": {},
     "output_type": "display_data"
    }
   ],
   "source": [
    "catalog.list()"
   ]
  },
  {
   "cell_type": "code",
   "execution_count": 1,
   "id": "cf10b885",
   "metadata": {},
   "outputs": [
    {
     "data": {
      "text/html": [
       "<pre style=\"white-space:pre;overflow-x:auto;line-height:normal;font-family:Menlo,'DejaVu Sans Mono',consolas,'Courier New',monospace\"><span style=\"color: #7fbfbf; text-decoration-color: #7fbfbf\">[01/08/23 19:24:06] </span><span style=\"color: #000080; text-decoration-color: #000080\">INFO    </span> Loading data from <span style=\"color: #008000; text-decoration-color: #008000\">'transactions'</span> <span style=\"font-weight: bold\">(</span>AthenaQueryDataSet<span style=\"font-weight: bold\">)</span><span style=\"color: #808000; text-decoration-color: #808000\">...</span>           <a href=\"file:///Users/k9/.pyenv/versions/3.9.11/envs/kedro-on-aws/lib/python3.9/site-packages/kedro/io/data_catalog.py\" target=\"_blank\"><span style=\"color: #7f7f7f; text-decoration-color: #7f7f7f\">data_catalog.py</span></a><span style=\"color: #7f7f7f; text-decoration-color: #7f7f7f\">:</span><a href=\"file:///Users/k9/.pyenv/versions/3.9.11/envs/kedro-on-aws/lib/python3.9/site-packages/kedro/io/data_catalog.py#343\" target=\"_blank\"><span style=\"color: #7f7f7f; text-decoration-color: #7f7f7f\">343</span></a>\n",
       "</pre>\n"
      ],
      "text/plain": [
       "\u001b[2;36m[01/08/23 19:24:06]\u001b[0m\u001b[2;36m \u001b[0m\u001b[34mINFO    \u001b[0m Loading data from \u001b[32m'transactions'\u001b[0m \u001b[1m(\u001b[0mAthenaQueryDataSet\u001b[1m)\u001b[0m\u001b[33m...\u001b[0m           \u001b]8;id=22244;file:///Users/k9/.pyenv/versions/3.9.11/envs/kedro-on-aws/lib/python3.9/site-packages/kedro/io/data_catalog.py\u001b\\\u001b[2mdata_catalog.py\u001b[0m\u001b]8;;\u001b\\\u001b[2m:\u001b[0m\u001b]8;id=662374;file:///Users/k9/.pyenv/versions/3.9.11/envs/kedro-on-aws/lib/python3.9/site-packages/kedro/io/data_catalog.py#343\u001b\\\u001b[2m343\u001b[0m\u001b]8;;\u001b\\\n"
      ]
     },
     "metadata": {},
     "output_type": "display_data"
    },
    {
     "data": {
      "text/html": [
       "<pre style=\"white-space:pre;overflow-x:auto;line-height:normal;font-family:Menlo,'DejaVu Sans Mono',consolas,'Courier New',monospace\"><span style=\"color: #7fbfbf; text-decoration-color: #7fbfbf\">                    </span><span style=\"color: #000080; text-decoration-color: #000080\">INFO    </span> Attempt to create external table temp_tbl_b98165941e with Athena  <a href=\"file:///Users/k9/kedro-on-aws/src/iris/extras/datasets/athena_dataset.py\" target=\"_blank\"><span style=\"color: #7f7f7f; text-decoration-color: #7f7f7f\">athena_dataset.py</span></a><span style=\"color: #7f7f7f; text-decoration-color: #7f7f7f\">:</span><a href=\"file:///Users/k9/kedro-on-aws/src/iris/extras/datasets/athena_dataset.py#81\" target=\"_blank\"><span style=\"color: #7f7f7f; text-decoration-color: #7f7f7f\">81</span></a>\n",
       "<span style=\"color: #7fbfbf; text-decoration-color: #7fbfbf\">                    </span>         CTAS query.                                                       <span style=\"color: #7f7f7f; text-decoration-color: #7f7f7f\">                    </span>\n",
       "</pre>\n"
      ],
      "text/plain": [
       "\u001b[2;36m                   \u001b[0m\u001b[2;36m \u001b[0m\u001b[34mINFO    \u001b[0m Attempt to create external table temp_tbl_b98165941e with Athena  \u001b]8;id=930635;file:///Users/k9/kedro-on-aws/src/iris/extras/datasets/athena_dataset.py\u001b\\\u001b[2mathena_dataset.py\u001b[0m\u001b]8;;\u001b\\\u001b[2m:\u001b[0m\u001b]8;id=359149;file:///Users/k9/kedro-on-aws/src/iris/extras/datasets/athena_dataset.py#81\u001b\\\u001b[2m81\u001b[0m\u001b]8;;\u001b\\\n",
       "\u001b[2;36m                    \u001b[0m         CTAS query.                                                       \u001b[2m                    \u001b[0m\n"
      ]
     },
     "metadata": {},
     "output_type": "display_data"
    },
    {
     "data": {
      "text/html": [
       "<pre style=\"white-space:pre;overflow-x:auto;line-height:normal;font-family:Menlo,'DejaVu Sans Mono',consolas,'Courier New',monospace\"><span style=\"color: #7fbfbf; text-decoration-color: #7fbfbf\">[01/08/23 19:24:11] </span><span style=\"color: #000080; text-decoration-color: #000080\">INFO    </span> Athena query output files saved to:                              <a href=\"file:///Users/k9/kedro-on-aws/src/iris/extras/datasets/athena_dataset.py\" target=\"_blank\"><span style=\"color: #7f7f7f; text-decoration-color: #7f7f7f\">athena_dataset.py</span></a><span style=\"color: #7f7f7f; text-decoration-color: #7f7f7f\">:</span><a href=\"file:///Users/k9/kedro-on-aws/src/iris/extras/datasets/athena_dataset.py#111\" target=\"_blank\"><span style=\"color: #7f7f7f; text-decoration-color: #7f7f7f\">111</span></a>\n",
       "<span style=\"color: #7fbfbf; text-decoration-color: #7fbfbf\">                    </span>         s3:<span style=\"color: #800080; text-decoration-color: #800080\">//k9-kedro-on-aws/athena-query-outputs/tables/</span><span style=\"color: #ff00ff; text-decoration-color: #ff00ff\">270e3c92-3bc1-4</span> <span style=\"color: #7f7f7f; text-decoration-color: #7f7f7f\">                     </span>\n",
       "<span style=\"color: #7fbfbf; text-decoration-color: #7fbfbf\">                    </span>         <span style=\"color: #ff00ff; text-decoration-color: #ff00ff\">f7e-8939-e39ebcb9311e</span>                                            <span style=\"color: #7f7f7f; text-decoration-color: #7f7f7f\">                     </span>\n",
       "</pre>\n"
      ],
      "text/plain": [
       "\u001b[2;36m[01/08/23 19:24:11]\u001b[0m\u001b[2;36m \u001b[0m\u001b[34mINFO    \u001b[0m Athena query output files saved to:                              \u001b]8;id=946790;file:///Users/k9/kedro-on-aws/src/iris/extras/datasets/athena_dataset.py\u001b\\\u001b[2mathena_dataset.py\u001b[0m\u001b]8;;\u001b\\\u001b[2m:\u001b[0m\u001b]8;id=617971;file:///Users/k9/kedro-on-aws/src/iris/extras/datasets/athena_dataset.py#111\u001b\\\u001b[2m111\u001b[0m\u001b]8;;\u001b\\\n",
       "\u001b[2;36m                    \u001b[0m         s3:\u001b[35m/\u001b[0m\u001b[35m/k9-kedro-on-aws/athena-query-outputs/tables/\u001b[0m\u001b[95m270e3c92-3bc1-4\u001b[0m \u001b[2m                     \u001b[0m\n",
       "\u001b[2;36m                    \u001b[0m         \u001b[95mf7e-8939-e39ebcb9311e\u001b[0m                                            \u001b[2m                     \u001b[0m\n"
      ]
     },
     "metadata": {},
     "output_type": "display_data"
    },
    {
     "name": "stdout",
     "output_type": "stream",
     "text": [
      "23/01/08 19:24:11 WARN MetricsConfig: Cannot locate configuration: tried hadoop-metrics2-s3a-file-system.properties,hadoop-metrics2.properties\n"
     ]
    }
   ],
   "source": [
    "transactions = catalog.load(\"transactions\")"
   ]
  },
  {
   "cell_type": "code",
   "execution_count": 2,
   "id": "6c983944",
   "metadata": {},
   "outputs": [
    {
     "name": "stdout",
     "output_type": "stream",
     "text": [
      "root\n",
      " |-- date: string (nullable = true)\n",
      " |-- hash: string (nullable = true)\n",
      " |-- nonce: long (nullable = true)\n",
      " |-- transaction_index: long (nullable = true)\n",
      " |-- from_address: string (nullable = true)\n",
      " |-- to_address: string (nullable = true)\n",
      " |-- value: double (nullable = true)\n",
      " |-- gas: long (nullable = true)\n",
      " |-- gas_price: long (nullable = true)\n",
      " |-- input: string (nullable = true)\n",
      " |-- receipt_cumulative_gas_used: long (nullable = true)\n",
      " |-- receipt_gas_used: long (nullable = true)\n",
      " |-- receipt_contract_address: string (nullable = true)\n",
      " |-- receipt_status: long (nullable = true)\n",
      " |-- block_timestamp: timestamp (nullable = true)\n",
      " |-- block_number: long (nullable = true)\n",
      " |-- block_hash: string (nullable = true)\n",
      " |-- max_fee_per_gas: long (nullable = true)\n",
      " |-- max_priority_fee_per_gas: long (nullable = true)\n",
      " |-- transaction_type: long (nullable = true)\n",
      " |-- receipt_effective_gas_price: long (nullable = true)\n",
      " |-- year: integer (nullable = true)\n",
      " |-- month: integer (nullable = true)\n",
      "\n"
     ]
    }
   ],
   "source": [
    "transactions.printSchema()"
   ]
  },
  {
   "cell_type": "code",
   "execution_count": 3,
   "id": "3922dedd",
   "metadata": {},
   "outputs": [
    {
     "data": {
      "text/html": [
       "<pre style=\"white-space:pre;overflow-x:auto;line-height:normal;font-family:Menlo,'DejaVu Sans Mono',consolas,'Courier New',monospace\"><span style=\"color: #008080; text-decoration-color: #008080; font-weight: bold\">100</span>\n",
       "</pre>\n"
      ],
      "text/plain": [
       "\u001b[1;36m100\u001b[0m\n"
      ]
     },
     "metadata": {},
     "output_type": "display_data"
    }
   ],
   "source": [
    "transactions.count()"
   ]
  },
  {
   "cell_type": "code",
   "execution_count": null,
   "id": "63d018b1",
   "metadata": {},
   "outputs": [],
   "source": []
  }
 ],
 "metadata": {
  "kernelspec": {
   "display_name": "Kedro (iris)",
   "language": "python",
   "name": "kedro_iris"
  },
  "language_info": {
   "codemirror_mode": {
    "name": "ipython",
    "version": 3
   },
   "file_extension": ".py",
   "mimetype": "text/x-python",
   "name": "python",
   "nbconvert_exporter": "python",
   "pygments_lexer": "ipython3",
   "version": "3.9.11"
  }
 },
 "nbformat": 4,
 "nbformat_minor": 5
}
