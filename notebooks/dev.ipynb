{
 "cells": [
  {
   "cell_type": "markdown",
   "id": "de0ca884",
   "metadata": {},
   "source": [
    "# dev"
   ]
  },
  {
   "cell_type": "code",
   "execution_count": 2,
   "id": "9b6521e0",
   "metadata": {},
   "outputs": [],
   "source": [
    "# constants\n",
    "bucket = \"k9-kedro-on-aws\"\n",
    "tbl = \"transactions\""
   ]
  },
  {
   "cell_type": "markdown",
   "id": "c74d6e7a",
   "metadata": {},
   "source": [
    "## Check AWS conf\n",
    "\n",
    "Setup the credentials in your preferred manner."
   ]
  },
  {
   "cell_type": "code",
   "execution_count": 3,
   "id": "807299ca",
   "metadata": {},
   "outputs": [
    {
     "name": "stdout",
     "output_type": "stream",
     "text": [
      "{\n",
      "    \"UserId\": \"AIDARAMT7QKYJ6DR7ITQU\",\n",
      "    \"Account\": \"069566694064\",\n",
      "    \"Arn\": \"arn:aws:iam::069566694064:user/k9\"\n",
      "}\n"
     ]
    }
   ],
   "source": [
    "%%bash\n",
    "aws sts get-caller-identity"
   ]
  },
  {
   "cell_type": "code",
   "execution_count": 4,
   "id": "4c32f962",
   "metadata": {},
   "outputs": [
    {
     "name": "stdout",
     "output_type": "stream",
     "text": [
      "                           PRE athena-query-outputs/\n",
      "                           PRE parsed/\n",
      "                           PRE transactions/\n"
     ]
    }
   ],
   "source": [
    "%%bash -s $bucket\n",
    "aws s3 ls $1"
   ]
  },
  {
   "cell_type": "markdown",
   "id": "589d54bb",
   "metadata": {},
   "source": [
    "## Check S3 connection on pyspark\n",
    "\n",
    "Note that we will need two additional `jars` in order to access AWS S3 from Spark:\n",
    "\n",
    "- [hadoop-aws](https://mvnrepository.com/artifact/org.apache.hadoop/hadoop-aws)\n",
    "- [aws-java-sdk-bundle](https://mvnrepository.com/artifact/com.amazonaws/aws-java-sdk-bundle)\n",
    "\n",
    "Make sure they are present in your `SPARK_HOME` jars folder.\n",
    "In the case of a `pip install pyspark`, the folder should be something like `<your-python-lib-path>/site-packages/pyspark/jars`."
   ]
  },
  {
   "cell_type": "code",
   "execution_count": 5,
   "id": "6041424c",
   "metadata": {},
   "outputs": [],
   "source": [
    "from pyspark.sql import SparkSession\n",
    "\n",
    "# spark configuration is handled by conf/base/spark.yml\n",
    "# refer to the src/hooks.py for details\n",
    "spark = SparkSession.builder.getOrCreate()"
   ]
  },
  {
   "cell_type": "code",
   "execution_count": 6,
   "id": "f7344e3d",
   "metadata": {},
   "outputs": [
    {
     "data": {
      "text/html": [
       "<pre style=\"white-space:pre;overflow-x:auto;line-height:normal;font-family:Menlo,'DejaVu Sans Mono',consolas,'Courier New',monospace\">\n",
       "<span style=\"font-weight: bold\">[</span>\n",
       "    <span style=\"font-weight: bold\">(</span>\n",
       "        <span style=\"color: #008000; text-decoration-color: #008000\">'spark.driver.extraJavaOptions'</span>,\n",
       "        <span style=\"color: #008000; text-decoration-color: #008000\">'-XX:+IgnoreUnrecognizedVMOptions --add-opens=java.base/java.lang=ALL-UNNAMED --add-opens=java.base/java.lang.invoke=ALL-UNNAMED --add-opens=java.base/java.lang.reflect=ALL-UNNAMED --add-opens=java.base/java.io=ALL-UNNAMED --add-opens=java.base/java.net=ALL-UNNAMED --add-opens=java.base/java.nio=ALL-UNNAMED --add-opens=java.base/java.util=ALL-UNNAMED --add-opens=java.base/java.util.concurrent=ALL-UNNAMED --add-opens=java.base/java.util.concurrent.atomic=ALL-UNNAMED --add-opens=java.base/sun.nio.ch=ALL-UNNAMED --add-opens=java.base/sun.nio.cs=ALL-UNNAMED --add-opens=java.base/sun.security.action=ALL-UNNAMED --add-opens=java.base/sun.util.calendar=ALL-UNNAMED --add-opens=java.security.jgss/sun.security.krb5=ALL-UNNAMED'</span>\n",
       "    <span style=\"font-weight: bold\">)</span>,\n",
       "    <span style=\"font-weight: bold\">(</span><span style=\"color: #008000; text-decoration-color: #008000\">'spark.sql.warehouse.dir'</span>, <span style=\"color: #008000; text-decoration-color: #008000\">'file:/Users/kyle_chung/kedro-on-aws/notebooks/spark-warehouse'</span><span style=\"font-weight: bold\">)</span>,\n",
       "    <span style=\"font-weight: bold\">(</span><span style=\"color: #008000; text-decoration-color: #008000\">'spark.scheduler.mode'</span>, <span style=\"color: #008000; text-decoration-color: #008000\">'FAIR'</span><span style=\"font-weight: bold\">)</span>,\n",
       "    <span style=\"font-weight: bold\">(</span><span style=\"color: #008000; text-decoration-color: #008000\">'spark.executor.id'</span>, <span style=\"color: #008000; text-decoration-color: #008000\">'driver'</span><span style=\"font-weight: bold\">)</span>,\n",
       "    <span style=\"font-weight: bold\">(</span><span style=\"color: #008000; text-decoration-color: #008000\">'spark.app.name'</span>, <span style=\"color: #008000; text-decoration-color: #008000\">'iris'</span><span style=\"font-weight: bold\">)</span>,\n",
       "    <span style=\"font-weight: bold\">(</span><span style=\"color: #008000; text-decoration-color: #008000\">'spark.hadoop.fs.s3a.impl'</span>, <span style=\"color: #008000; text-decoration-color: #008000\">'org.apache.hadoop.fs.s3a.S3AFileSystem'</span><span style=\"font-weight: bold\">)</span>,\n",
       "    <span style=\"font-weight: bold\">(</span><span style=\"color: #008000; text-decoration-color: #008000\">'spark.app.startTime'</span>, <span style=\"color: #008000; text-decoration-color: #008000\">'1673251548378'</span><span style=\"font-weight: bold\">)</span>,\n",
       "    <span style=\"font-weight: bold\">(</span><span style=\"color: #008000; text-decoration-color: #008000\">'spark.app.submitTime'</span>, <span style=\"color: #008000; text-decoration-color: #008000\">'1673251548203'</span><span style=\"font-weight: bold\">)</span>,\n",
       "    <span style=\"font-weight: bold\">(</span><span style=\"color: #008000; text-decoration-color: #008000\">'spark.sql.catalogImplementation'</span>, <span style=\"color: #008000; text-decoration-color: #008000\">'hive'</span><span style=\"font-weight: bold\">)</span>,\n",
       "    <span style=\"font-weight: bold\">(</span><span style=\"color: #008000; text-decoration-color: #008000\">'spark.sql.execution.arrow.pyspark.enabled'</span>, <span style=\"color: #008000; text-decoration-color: #008000\">'True'</span><span style=\"font-weight: bold\">)</span>,\n",
       "    <span style=\"font-weight: bold\">(</span><span style=\"color: #008000; text-decoration-color: #008000\">'spark.rdd.compress'</span>, <span style=\"color: #008000; text-decoration-color: #008000\">'True'</span><span style=\"font-weight: bold\">)</span>,\n",
       "    <span style=\"font-weight: bold\">(</span><span style=\"color: #008000; text-decoration-color: #008000\">'spark.app.id'</span>, <span style=\"color: #008000; text-decoration-color: #008000\">'local-1673251549318'</span><span style=\"font-weight: bold\">)</span>,\n",
       "    <span style=\"font-weight: bold\">(</span>\n",
       "        <span style=\"color: #008000; text-decoration-color: #008000\">'spark.executor.extraJavaOptions'</span>,\n",
       "        <span style=\"color: #008000; text-decoration-color: #008000\">'-XX:+IgnoreUnrecognizedVMOptions --add-opens=java.base/java.lang=ALL-UNNAMED --add-opens=java.base/java.lang.invoke=ALL-UNNAMED --add-opens=java.base/java.lang.reflect=ALL-UNNAMED --add-opens=java.base/java.io=ALL-UNNAMED --add-opens=java.base/java.net=ALL-UNNAMED --add-opens=java.base/java.nio=ALL-UNNAMED --add-opens=java.base/java.util=ALL-UNNAMED --add-opens=java.base/java.util.concurrent=ALL-UNNAMED --add-opens=java.base/java.util.concurrent.atomic=ALL-UNNAMED --add-opens=java.base/sun.nio.ch=ALL-UNNAMED --add-opens=java.base/sun.nio.cs=ALL-UNNAMED --add-opens=java.base/sun.security.action=ALL-UNNAMED --add-opens=java.base/sun.util.calendar=ALL-UNNAMED --add-opens=java.security.jgss/sun.security.krb5=ALL-UNNAMED'</span>\n",
       "    <span style=\"font-weight: bold\">)</span>,\n",
       "    <span style=\"font-weight: bold\">(</span><span style=\"color: #008000; text-decoration-color: #008000\">'spark.serializer.objectStreamReset'</span>, <span style=\"color: #008000; text-decoration-color: #008000\">'100'</span><span style=\"font-weight: bold\">)</span>,\n",
       "    <span style=\"font-weight: bold\">(</span><span style=\"color: #008000; text-decoration-color: #008000\">'spark.driver.host'</span>, <span style=\"color: #008000; text-decoration-color: #008000\">'172.30.80.61'</span><span style=\"font-weight: bold\">)</span>,\n",
       "    <span style=\"font-weight: bold\">(</span><span style=\"color: #008000; text-decoration-color: #008000\">'spark.submit.pyFiles'</span>, <span style=\"color: #008000; text-decoration-color: #008000\">''</span><span style=\"font-weight: bold\">)</span>,\n",
       "    <span style=\"font-weight: bold\">(</span><span style=\"color: #008000; text-decoration-color: #008000\">'spark.submit.deployMode'</span>, <span style=\"color: #008000; text-decoration-color: #008000\">'client'</span><span style=\"font-weight: bold\">)</span>,\n",
       "    <span style=\"font-weight: bold\">(</span><span style=\"color: #008000; text-decoration-color: #008000\">'spark.driver.maxResultSize'</span>, <span style=\"color: #008000; text-decoration-color: #008000\">'3g'</span><span style=\"font-weight: bold\">)</span>,\n",
       "    <span style=\"font-weight: bold\">(</span><span style=\"color: #008000; text-decoration-color: #008000\">'spark.ui.showConsoleProgress'</span>, <span style=\"color: #008000; text-decoration-color: #008000\">'true'</span><span style=\"font-weight: bold\">)</span>,\n",
       "    <span style=\"font-weight: bold\">(</span><span style=\"color: #008000; text-decoration-color: #008000\">'spark.master'</span>, <span style=\"color: #008000; text-decoration-color: #008000\">'local[2]'</span><span style=\"font-weight: bold\">)</span>,\n",
       "    <span style=\"font-weight: bold\">(</span><span style=\"color: #008000; text-decoration-color: #008000\">'spark.driver.port'</span>, <span style=\"color: #008000; text-decoration-color: #008000\">'60926'</span><span style=\"font-weight: bold\">)</span>\n",
       "<span style=\"font-weight: bold\">]</span>\n",
       "</pre>\n"
      ],
      "text/plain": [
       "\n",
       "\u001b[1m[\u001b[0m\n",
       "    \u001b[1m(\u001b[0m\n",
       "        \u001b[32m'spark.driver.extraJavaOptions'\u001b[0m,\n",
       "        \u001b[32m'-XX:+IgnoreUnrecognizedVMOptions --add-\u001b[0m\u001b[32mopens\u001b[0m\u001b[32m=\u001b[0m\u001b[32mjava\u001b[0m\u001b[32m.base/java.\u001b[0m\u001b[32mlang\u001b[0m\u001b[32m=\u001b[0m\u001b[32mALL\u001b[0m\u001b[32m-UNNAMED --add-\u001b[0m\u001b[32mopens\u001b[0m\u001b[32m=\u001b[0m\u001b[32mjava\u001b[0m\u001b[32m.base/java.lang.\u001b[0m\u001b[32minvoke\u001b[0m\u001b[32m=\u001b[0m\u001b[32mALL\u001b[0m\u001b[32m-UNNAMED --add-\u001b[0m\u001b[32mopens\u001b[0m\u001b[32m=\u001b[0m\u001b[32mjava\u001b[0m\u001b[32m.base/java.lang.\u001b[0m\u001b[32mreflect\u001b[0m\u001b[32m=\u001b[0m\u001b[32mALL\u001b[0m\u001b[32m-UNNAMED --add-\u001b[0m\u001b[32mopens\u001b[0m\u001b[32m=\u001b[0m\u001b[32mjava\u001b[0m\u001b[32m.base/java.\u001b[0m\u001b[32mio\u001b[0m\u001b[32m=\u001b[0m\u001b[32mALL\u001b[0m\u001b[32m-UNNAMED --add-\u001b[0m\u001b[32mopens\u001b[0m\u001b[32m=\u001b[0m\u001b[32mjava\u001b[0m\u001b[32m.base/java.\u001b[0m\u001b[32mnet\u001b[0m\u001b[32m=\u001b[0m\u001b[32mALL\u001b[0m\u001b[32m-UNNAMED --add-\u001b[0m\u001b[32mopens\u001b[0m\u001b[32m=\u001b[0m\u001b[32mjava\u001b[0m\u001b[32m.base/java.\u001b[0m\u001b[32mnio\u001b[0m\u001b[32m=\u001b[0m\u001b[32mALL\u001b[0m\u001b[32m-UNNAMED --add-\u001b[0m\u001b[32mopens\u001b[0m\u001b[32m=\u001b[0m\u001b[32mjava\u001b[0m\u001b[32m.base/java.\u001b[0m\u001b[32mutil\u001b[0m\u001b[32m=\u001b[0m\u001b[32mALL\u001b[0m\u001b[32m-UNNAMED --add-\u001b[0m\u001b[32mopens\u001b[0m\u001b[32m=\u001b[0m\u001b[32mjava\u001b[0m\u001b[32m.base/java.util.\u001b[0m\u001b[32mconcurrent\u001b[0m\u001b[32m=\u001b[0m\u001b[32mALL\u001b[0m\u001b[32m-UNNAMED --add-\u001b[0m\u001b[32mopens\u001b[0m\u001b[32m=\u001b[0m\u001b[32mjava\u001b[0m\u001b[32m.base/java.util.concurrent.\u001b[0m\u001b[32matomic\u001b[0m\u001b[32m=\u001b[0m\u001b[32mALL\u001b[0m\u001b[32m-UNNAMED --add-\u001b[0m\u001b[32mopens\u001b[0m\u001b[32m=\u001b[0m\u001b[32mjava\u001b[0m\u001b[32m.base/sun.nio.\u001b[0m\u001b[32mch\u001b[0m\u001b[32m=\u001b[0m\u001b[32mALL\u001b[0m\u001b[32m-UNNAMED --add-\u001b[0m\u001b[32mopens\u001b[0m\u001b[32m=\u001b[0m\u001b[32mjava\u001b[0m\u001b[32m.base/sun.nio.\u001b[0m\u001b[32mcs\u001b[0m\u001b[32m=\u001b[0m\u001b[32mALL\u001b[0m\u001b[32m-UNNAMED --add-\u001b[0m\u001b[32mopens\u001b[0m\u001b[32m=\u001b[0m\u001b[32mjava\u001b[0m\u001b[32m.base/sun.security.\u001b[0m\u001b[32maction\u001b[0m\u001b[32m=\u001b[0m\u001b[32mALL\u001b[0m\u001b[32m-UNNAMED --add-\u001b[0m\u001b[32mopens\u001b[0m\u001b[32m=\u001b[0m\u001b[32mjava\u001b[0m\u001b[32m.base/sun.util.\u001b[0m\u001b[32mcalendar\u001b[0m\u001b[32m=\u001b[0m\u001b[32mALL\u001b[0m\u001b[32m-UNNAMED --add-\u001b[0m\u001b[32mopens\u001b[0m\u001b[32m=\u001b[0m\u001b[32mjava\u001b[0m\u001b[32m.security.jgss/sun.security.\u001b[0m\u001b[32mkrb5\u001b[0m\u001b[32m=\u001b[0m\u001b[32mALL\u001b[0m\u001b[32m-UNNAMED'\u001b[0m\n",
       "    \u001b[1m)\u001b[0m,\n",
       "    \u001b[1m(\u001b[0m\u001b[32m'spark.sql.warehouse.dir'\u001b[0m, \u001b[32m'file:/Users/kyle_chung/kedro-on-aws/notebooks/spark-warehouse'\u001b[0m\u001b[1m)\u001b[0m,\n",
       "    \u001b[1m(\u001b[0m\u001b[32m'spark.scheduler.mode'\u001b[0m, \u001b[32m'FAIR'\u001b[0m\u001b[1m)\u001b[0m,\n",
       "    \u001b[1m(\u001b[0m\u001b[32m'spark.executor.id'\u001b[0m, \u001b[32m'driver'\u001b[0m\u001b[1m)\u001b[0m,\n",
       "    \u001b[1m(\u001b[0m\u001b[32m'spark.app.name'\u001b[0m, \u001b[32m'iris'\u001b[0m\u001b[1m)\u001b[0m,\n",
       "    \u001b[1m(\u001b[0m\u001b[32m'spark.hadoop.fs.s3a.impl'\u001b[0m, \u001b[32m'org.apache.hadoop.fs.s3a.S3AFileSystem'\u001b[0m\u001b[1m)\u001b[0m,\n",
       "    \u001b[1m(\u001b[0m\u001b[32m'spark.app.startTime'\u001b[0m, \u001b[32m'1673251548378'\u001b[0m\u001b[1m)\u001b[0m,\n",
       "    \u001b[1m(\u001b[0m\u001b[32m'spark.app.submitTime'\u001b[0m, \u001b[32m'1673251548203'\u001b[0m\u001b[1m)\u001b[0m,\n",
       "    \u001b[1m(\u001b[0m\u001b[32m'spark.sql.catalogImplementation'\u001b[0m, \u001b[32m'hive'\u001b[0m\u001b[1m)\u001b[0m,\n",
       "    \u001b[1m(\u001b[0m\u001b[32m'spark.sql.execution.arrow.pyspark.enabled'\u001b[0m, \u001b[32m'True'\u001b[0m\u001b[1m)\u001b[0m,\n",
       "    \u001b[1m(\u001b[0m\u001b[32m'spark.rdd.compress'\u001b[0m, \u001b[32m'True'\u001b[0m\u001b[1m)\u001b[0m,\n",
       "    \u001b[1m(\u001b[0m\u001b[32m'spark.app.id'\u001b[0m, \u001b[32m'local-1673251549318'\u001b[0m\u001b[1m)\u001b[0m,\n",
       "    \u001b[1m(\u001b[0m\n",
       "        \u001b[32m'spark.executor.extraJavaOptions'\u001b[0m,\n",
       "        \u001b[32m'-XX:+IgnoreUnrecognizedVMOptions --add-\u001b[0m\u001b[32mopens\u001b[0m\u001b[32m=\u001b[0m\u001b[32mjava\u001b[0m\u001b[32m.base/java.\u001b[0m\u001b[32mlang\u001b[0m\u001b[32m=\u001b[0m\u001b[32mALL\u001b[0m\u001b[32m-UNNAMED --add-\u001b[0m\u001b[32mopens\u001b[0m\u001b[32m=\u001b[0m\u001b[32mjava\u001b[0m\u001b[32m.base/java.lang.\u001b[0m\u001b[32minvoke\u001b[0m\u001b[32m=\u001b[0m\u001b[32mALL\u001b[0m\u001b[32m-UNNAMED --add-\u001b[0m\u001b[32mopens\u001b[0m\u001b[32m=\u001b[0m\u001b[32mjava\u001b[0m\u001b[32m.base/java.lang.\u001b[0m\u001b[32mreflect\u001b[0m\u001b[32m=\u001b[0m\u001b[32mALL\u001b[0m\u001b[32m-UNNAMED --add-\u001b[0m\u001b[32mopens\u001b[0m\u001b[32m=\u001b[0m\u001b[32mjava\u001b[0m\u001b[32m.base/java.\u001b[0m\u001b[32mio\u001b[0m\u001b[32m=\u001b[0m\u001b[32mALL\u001b[0m\u001b[32m-UNNAMED --add-\u001b[0m\u001b[32mopens\u001b[0m\u001b[32m=\u001b[0m\u001b[32mjava\u001b[0m\u001b[32m.base/java.\u001b[0m\u001b[32mnet\u001b[0m\u001b[32m=\u001b[0m\u001b[32mALL\u001b[0m\u001b[32m-UNNAMED --add-\u001b[0m\u001b[32mopens\u001b[0m\u001b[32m=\u001b[0m\u001b[32mjava\u001b[0m\u001b[32m.base/java.\u001b[0m\u001b[32mnio\u001b[0m\u001b[32m=\u001b[0m\u001b[32mALL\u001b[0m\u001b[32m-UNNAMED --add-\u001b[0m\u001b[32mopens\u001b[0m\u001b[32m=\u001b[0m\u001b[32mjava\u001b[0m\u001b[32m.base/java.\u001b[0m\u001b[32mutil\u001b[0m\u001b[32m=\u001b[0m\u001b[32mALL\u001b[0m\u001b[32m-UNNAMED --add-\u001b[0m\u001b[32mopens\u001b[0m\u001b[32m=\u001b[0m\u001b[32mjava\u001b[0m\u001b[32m.base/java.util.\u001b[0m\u001b[32mconcurrent\u001b[0m\u001b[32m=\u001b[0m\u001b[32mALL\u001b[0m\u001b[32m-UNNAMED --add-\u001b[0m\u001b[32mopens\u001b[0m\u001b[32m=\u001b[0m\u001b[32mjava\u001b[0m\u001b[32m.base/java.util.concurrent.\u001b[0m\u001b[32matomic\u001b[0m\u001b[32m=\u001b[0m\u001b[32mALL\u001b[0m\u001b[32m-UNNAMED --add-\u001b[0m\u001b[32mopens\u001b[0m\u001b[32m=\u001b[0m\u001b[32mjava\u001b[0m\u001b[32m.base/sun.nio.\u001b[0m\u001b[32mch\u001b[0m\u001b[32m=\u001b[0m\u001b[32mALL\u001b[0m\u001b[32m-UNNAMED --add-\u001b[0m\u001b[32mopens\u001b[0m\u001b[32m=\u001b[0m\u001b[32mjava\u001b[0m\u001b[32m.base/sun.nio.\u001b[0m\u001b[32mcs\u001b[0m\u001b[32m=\u001b[0m\u001b[32mALL\u001b[0m\u001b[32m-UNNAMED --add-\u001b[0m\u001b[32mopens\u001b[0m\u001b[32m=\u001b[0m\u001b[32mjava\u001b[0m\u001b[32m.base/sun.security.\u001b[0m\u001b[32maction\u001b[0m\u001b[32m=\u001b[0m\u001b[32mALL\u001b[0m\u001b[32m-UNNAMED --add-\u001b[0m\u001b[32mopens\u001b[0m\u001b[32m=\u001b[0m\u001b[32mjava\u001b[0m\u001b[32m.base/sun.util.\u001b[0m\u001b[32mcalendar\u001b[0m\u001b[32m=\u001b[0m\u001b[32mALL\u001b[0m\u001b[32m-UNNAMED --add-\u001b[0m\u001b[32mopens\u001b[0m\u001b[32m=\u001b[0m\u001b[32mjava\u001b[0m\u001b[32m.security.jgss/sun.security.\u001b[0m\u001b[32mkrb5\u001b[0m\u001b[32m=\u001b[0m\u001b[32mALL\u001b[0m\u001b[32m-UNNAMED'\u001b[0m\n",
       "    \u001b[1m)\u001b[0m,\n",
       "    \u001b[1m(\u001b[0m\u001b[32m'spark.serializer.objectStreamReset'\u001b[0m, \u001b[32m'100'\u001b[0m\u001b[1m)\u001b[0m,\n",
       "    \u001b[1m(\u001b[0m\u001b[32m'spark.driver.host'\u001b[0m, \u001b[32m'172.30.80.61'\u001b[0m\u001b[1m)\u001b[0m,\n",
       "    \u001b[1m(\u001b[0m\u001b[32m'spark.submit.pyFiles'\u001b[0m, \u001b[32m''\u001b[0m\u001b[1m)\u001b[0m,\n",
       "    \u001b[1m(\u001b[0m\u001b[32m'spark.submit.deployMode'\u001b[0m, \u001b[32m'client'\u001b[0m\u001b[1m)\u001b[0m,\n",
       "    \u001b[1m(\u001b[0m\u001b[32m'spark.driver.maxResultSize'\u001b[0m, \u001b[32m'3g'\u001b[0m\u001b[1m)\u001b[0m,\n",
       "    \u001b[1m(\u001b[0m\u001b[32m'spark.ui.showConsoleProgress'\u001b[0m, \u001b[32m'true'\u001b[0m\u001b[1m)\u001b[0m,\n",
       "    \u001b[1m(\u001b[0m\u001b[32m'spark.master'\u001b[0m, \u001b[32m'local\u001b[0m\u001b[32m[\u001b[0m\u001b[32m2\u001b[0m\u001b[32m]\u001b[0m\u001b[32m'\u001b[0m\u001b[1m)\u001b[0m,\n",
       "    \u001b[1m(\u001b[0m\u001b[32m'spark.driver.port'\u001b[0m, \u001b[32m'60926'\u001b[0m\u001b[1m)\u001b[0m\n",
       "\u001b[1m]\u001b[0m\n"
      ]
     },
     "metadata": {},
     "output_type": "display_data"
    }
   ],
   "source": [
    "spark.sparkContext.getConf().getAll()"
   ]
  },
  {
   "cell_type": "code",
   "execution_count": 7,
   "id": "8f5390c4",
   "metadata": {},
   "outputs": [
    {
     "name": "stdout",
     "output_type": "stream",
     "text": [
      "23/01/09 16:06:13 WARN MetricsConfig: Cannot locate configuration: tried hadoop-metrics2-s3a-file-system.properties,hadoop-metrics2.properties\n"
     ]
    },
    {
     "name": "stderr",
     "output_type": "stream",
     "text": [
      "                                                                                \r"
     ]
    },
    {
     "name": "stdout",
     "output_type": "stream",
     "text": [
      "23/01/09 16:06:16 WARN DataSource: Found duplicate column(s) in the data schema and the partition schema: `date`\n",
      "root\n",
      " |-- gas: long (nullable = true)\n",
      " |-- hash: string (nullable = true)\n",
      " |-- input: string (nullable = true)\n",
      " |-- nonce: long (nullable = true)\n",
      " |-- value: double (nullable = true)\n",
      " |-- block_number: long (nullable = true)\n",
      " |-- block_hash: string (nullable = true)\n",
      " |-- transaction_index: long (nullable = true)\n",
      " |-- from_address: string (nullable = true)\n",
      " |-- to_address: string (nullable = true)\n",
      " |-- gas_price: long (nullable = true)\n",
      " |-- receipt_cumulative_gas_used: long (nullable = true)\n",
      " |-- receipt_gas_used: long (nullable = true)\n",
      " |-- receipt_contract_address: string (nullable = true)\n",
      " |-- receipt_status: long (nullable = true)\n",
      " |-- receipt_effective_gas_price: long (nullable = true)\n",
      " |-- transaction_type: long (nullable = true)\n",
      " |-- max_fee_per_gas: long (nullable = true)\n",
      " |-- max_priority_fee_per_gas: long (nullable = true)\n",
      " |-- block_timestamp: timestamp (nullable = true)\n",
      " |-- date: date (nullable = true)\n",
      " |-- last_modified: timestamp (nullable = true)\n",
      "\n"
     ]
    }
   ],
   "source": [
    "spark.read.parquet(f\"s3a://{bucket}/{tbl}\").printSchema()"
   ]
  },
  {
   "cell_type": "markdown",
   "id": "a11ff766",
   "metadata": {},
   "source": [
    "## Test kedro catalog"
   ]
  },
  {
   "cell_type": "code",
   "execution_count": 8,
   "id": "42e12c25",
   "metadata": {},
   "outputs": [
    {
     "data": {
      "text/html": [
       "<pre style=\"white-space:pre;overflow-x:auto;line-height:normal;font-family:Menlo,'DejaVu Sans Mono',consolas,'Courier New',monospace\">\n",
       "<span style=\"font-weight: bold\">[</span>\n",
       "    <span style=\"color: #008000; text-decoration-color: #008000\">'transactions'</span>,\n",
       "    <span style=\"color: #008000; text-decoration-color: #008000\">'parsed'</span>,\n",
       "    <span style=\"color: #008000; text-decoration-color: #008000\">'parameters'</span>,\n",
       "    <span style=\"color: #008000; text-decoration-color: #008000\">'params:train_fraction'</span>,\n",
       "    <span style=\"color: #008000; text-decoration-color: #008000\">'params:random_state'</span>,\n",
       "    <span style=\"color: #008000; text-decoration-color: #008000\">'params:target_column'</span>\n",
       "<span style=\"font-weight: bold\">]</span>\n",
       "</pre>\n"
      ],
      "text/plain": [
       "\n",
       "\u001b[1m[\u001b[0m\n",
       "    \u001b[32m'transactions'\u001b[0m,\n",
       "    \u001b[32m'parsed'\u001b[0m,\n",
       "    \u001b[32m'parameters'\u001b[0m,\n",
       "    \u001b[32m'params:train_fraction'\u001b[0m,\n",
       "    \u001b[32m'params:random_state'\u001b[0m,\n",
       "    \u001b[32m'params:target_column'\u001b[0m\n",
       "\u001b[1m]\u001b[0m\n"
      ]
     },
     "metadata": {},
     "output_type": "display_data"
    }
   ],
   "source": [
    "catalog.list()"
   ]
  },
  {
   "cell_type": "code",
   "execution_count": 9,
   "id": "cf10b885",
   "metadata": {},
   "outputs": [
    {
     "data": {
      "text/html": [
       "<pre style=\"white-space:pre;overflow-x:auto;line-height:normal;font-family:Menlo,'DejaVu Sans Mono',consolas,'Courier New',monospace\"><span style=\"color: #7fbfbf; text-decoration-color: #7fbfbf\">[01/09/23 16:06:18] </span><span style=\"color: #000080; text-decoration-color: #000080\">INFO    </span> Loading data from <span style=\"color: #008000; text-decoration-color: #008000\">'transactions'</span> <span style=\"font-weight: bold\">(</span>AthenaQueryDataSet<span style=\"font-weight: bold\">)</span><span style=\"color: #808000; text-decoration-color: #808000\">...</span>           <a href=\"file:///Users/kyle_chung/.pyenv/versions/3.9.15/envs/kedro-on-aws/lib/python3.9/site-packages/kedro/io/data_catalog.py\" target=\"_blank\"><span style=\"color: #7f7f7f; text-decoration-color: #7f7f7f\">data_catalog.py</span></a><span style=\"color: #7f7f7f; text-decoration-color: #7f7f7f\">:</span><a href=\"file:///Users/kyle_chung/.pyenv/versions/3.9.15/envs/kedro-on-aws/lib/python3.9/site-packages/kedro/io/data_catalog.py#343\" target=\"_blank\"><span style=\"color: #7f7f7f; text-decoration-color: #7f7f7f\">343</span></a>\n",
       "</pre>\n"
      ],
      "text/plain": [
       "\u001b[2;36m[01/09/23 16:06:18]\u001b[0m\u001b[2;36m \u001b[0m\u001b[34mINFO    \u001b[0m Loading data from \u001b[32m'transactions'\u001b[0m \u001b[1m(\u001b[0mAthenaQueryDataSet\u001b[1m)\u001b[0m\u001b[33m...\u001b[0m           \u001b]8;id=228664;file:///Users/kyle_chung/.pyenv/versions/3.9.15/envs/kedro-on-aws/lib/python3.9/site-packages/kedro/io/data_catalog.py\u001b\\\u001b[2mdata_catalog.py\u001b[0m\u001b]8;;\u001b\\\u001b[2m:\u001b[0m\u001b]8;id=392701;file:///Users/kyle_chung/.pyenv/versions/3.9.15/envs/kedro-on-aws/lib/python3.9/site-packages/kedro/io/data_catalog.py#343\u001b\\\u001b[2m343\u001b[0m\u001b]8;;\u001b\\\n"
      ]
     },
     "metadata": {},
     "output_type": "display_data"
    },
    {
     "data": {
      "text/html": [
       "<pre style=\"white-space:pre;overflow-x:auto;line-height:normal;font-family:Menlo,'DejaVu Sans Mono',consolas,'Courier New',monospace\"><span style=\"color: #7fbfbf; text-decoration-color: #7fbfbf\">                    </span><span style=\"color: #000080; text-decoration-color: #000080\">INFO    </span> Attempt to UNLOAD files to                                       <a href=\"file:///Users/kyle_chung/kedro-on-aws/src/iris/extras/datasets/athena_dataset.py\" target=\"_blank\"><span style=\"color: #7f7f7f; text-decoration-color: #7f7f7f\">athena_dataset.py</span></a><span style=\"color: #7f7f7f; text-decoration-color: #7f7f7f\">:</span><a href=\"file:///Users/kyle_chung/kedro-on-aws/src/iris/extras/datasets/athena_dataset.py#105\" target=\"_blank\"><span style=\"color: #7f7f7f; text-decoration-color: #7f7f7f\">105</span></a>\n",
       "<span style=\"color: #7fbfbf; text-decoration-color: #7fbfbf\">                    </span>         s3:<span style=\"color: #800080; text-decoration-color: #800080\">//k9-kedro-on-aws/athena-query-outputs/</span><span style=\"color: #ff00ff; text-decoration-color: #ff00ff\">temp_tbl_1d109d5918</span>    <span style=\"color: #7f7f7f; text-decoration-color: #7f7f7f\">                     </span>\n",
       "<span style=\"color: #7fbfbf; text-decoration-color: #7fbfbf\">                    </span>         with Athena.                                                     <span style=\"color: #7f7f7f; text-decoration-color: #7f7f7f\">                     </span>\n",
       "</pre>\n"
      ],
      "text/plain": [
       "\u001b[2;36m                   \u001b[0m\u001b[2;36m \u001b[0m\u001b[34mINFO    \u001b[0m Attempt to UNLOAD files to                                       \u001b]8;id=722863;file:///Users/kyle_chung/kedro-on-aws/src/iris/extras/datasets/athena_dataset.py\u001b\\\u001b[2mathena_dataset.py\u001b[0m\u001b]8;;\u001b\\\u001b[2m:\u001b[0m\u001b]8;id=728116;file:///Users/kyle_chung/kedro-on-aws/src/iris/extras/datasets/athena_dataset.py#105\u001b\\\u001b[2m105\u001b[0m\u001b]8;;\u001b\\\n",
       "\u001b[2;36m                    \u001b[0m         s3:\u001b[35m/\u001b[0m\u001b[35m/k9-kedro-on-aws/athena-query-outputs/\u001b[0m\u001b[95mtemp_tbl_1d109d5918\u001b[0m    \u001b[2m                     \u001b[0m\n",
       "\u001b[2;36m                    \u001b[0m         with Athena.                                                     \u001b[2m                     \u001b[0m\n"
      ]
     },
     "metadata": {},
     "output_type": "display_data"
    },
    {
     "data": {
      "text/html": [
       "<pre style=\"white-space:pre;overflow-x:auto;line-height:normal;font-family:Menlo,'DejaVu Sans Mono',consolas,'Courier New',monospace\"><span style=\"color: #7fbfbf; text-decoration-color: #7fbfbf\">[01/09/23 16:06:23] </span><span style=\"color: #000080; text-decoration-color: #000080\">INFO    </span> Athena query output files saved to:                              <a href=\"file:///Users/kyle_chung/kedro-on-aws/src/iris/extras/datasets/athena_dataset.py\" target=\"_blank\"><span style=\"color: #7f7f7f; text-decoration-color: #7f7f7f\">athena_dataset.py</span></a><span style=\"color: #7f7f7f; text-decoration-color: #7f7f7f\">:</span><a href=\"file:///Users/kyle_chung/kedro-on-aws/src/iris/extras/datasets/athena_dataset.py#137\" target=\"_blank\"><span style=\"color: #7f7f7f; text-decoration-color: #7f7f7f\">137</span></a>\n",
       "<span style=\"color: #7fbfbf; text-decoration-color: #7fbfbf\">                    </span>         s3:<span style=\"color: #800080; text-decoration-color: #800080\">//k9-kedro-on-aws/athena-query-outputs/</span><span style=\"color: #ff00ff; text-decoration-color: #ff00ff\">temp_tbl_1d109d5918</span>    <span style=\"color: #7f7f7f; text-decoration-color: #7f7f7f\">                     </span>\n",
       "</pre>\n"
      ],
      "text/plain": [
       "\u001b[2;36m[01/09/23 16:06:23]\u001b[0m\u001b[2;36m \u001b[0m\u001b[34mINFO    \u001b[0m Athena query output files saved to:                              \u001b]8;id=904742;file:///Users/kyle_chung/kedro-on-aws/src/iris/extras/datasets/athena_dataset.py\u001b\\\u001b[2mathena_dataset.py\u001b[0m\u001b]8;;\u001b\\\u001b[2m:\u001b[0m\u001b]8;id=279836;file:///Users/kyle_chung/kedro-on-aws/src/iris/extras/datasets/athena_dataset.py#137\u001b\\\u001b[2m137\u001b[0m\u001b]8;;\u001b\\\n",
       "\u001b[2;36m                    \u001b[0m         s3:\u001b[35m/\u001b[0m\u001b[35m/k9-kedro-on-aws/athena-query-outputs/\u001b[0m\u001b[95mtemp_tbl_1d109d5918\u001b[0m    \u001b[2m                     \u001b[0m\n"
      ]
     },
     "metadata": {},
     "output_type": "display_data"
    }
   ],
   "source": [
    "transactions = catalog.load(\"transactions\")"
   ]
  },
  {
   "cell_type": "code",
   "execution_count": 10,
   "id": "6c983944",
   "metadata": {},
   "outputs": [
    {
     "name": "stdout",
     "output_type": "stream",
     "text": [
      "root\n",
      " |-- date: string (nullable = true)\n",
      " |-- hash: string (nullable = true)\n",
      " |-- nonce: long (nullable = true)\n",
      " |-- transaction_index: long (nullable = true)\n",
      " |-- from_address: string (nullable = true)\n",
      " |-- to_address: string (nullable = true)\n",
      " |-- value: double (nullable = true)\n",
      " |-- gas: long (nullable = true)\n",
      " |-- gas_price: long (nullable = true)\n",
      " |-- input: string (nullable = true)\n",
      " |-- receipt_cumulative_gas_used: long (nullable = true)\n",
      " |-- receipt_gas_used: long (nullable = true)\n",
      " |-- receipt_contract_address: string (nullable = true)\n",
      " |-- receipt_status: long (nullable = true)\n",
      " |-- block_timestamp: timestamp (nullable = true)\n",
      " |-- block_number: long (nullable = true)\n",
      " |-- block_hash: string (nullable = true)\n",
      " |-- max_fee_per_gas: long (nullable = true)\n",
      " |-- max_priority_fee_per_gas: long (nullable = true)\n",
      " |-- transaction_type: long (nullable = true)\n",
      " |-- receipt_effective_gas_price: long (nullable = true)\n",
      " |-- year: integer (nullable = true)\n",
      " |-- month: integer (nullable = true)\n",
      "\n"
     ]
    }
   ],
   "source": [
    "transactions.printSchema()"
   ]
  },
  {
   "cell_type": "code",
   "execution_count": 18,
   "id": "424cdeb9",
   "metadata": {},
   "outputs": [
    {
     "data": {
      "text/html": [
       "<pre style=\"white-space:pre;overflow-x:auto;line-height:normal;font-family:Menlo,'DejaVu Sans Mono',consolas,'Courier New',monospace\"><span style=\"color: #7fbfbf; text-decoration-color: #7fbfbf\">[01/09/23 16:07:03] </span><span style=\"color: #000080; text-decoration-color: #000080\">INFO    </span> Loading data from <span style=\"color: #008000; text-decoration-color: #008000\">'parsed'</span> <span style=\"font-weight: bold\">(</span>SparkDataSet<span style=\"font-weight: bold\">)</span><span style=\"color: #808000; text-decoration-color: #808000\">...</span>                       <a href=\"file:///Users/kyle_chung/.pyenv/versions/3.9.15/envs/kedro-on-aws/lib/python3.9/site-packages/kedro/io/data_catalog.py\" target=\"_blank\"><span style=\"color: #7f7f7f; text-decoration-color: #7f7f7f\">data_catalog.py</span></a><span style=\"color: #7f7f7f; text-decoration-color: #7f7f7f\">:</span><a href=\"file:///Users/kyle_chung/.pyenv/versions/3.9.15/envs/kedro-on-aws/lib/python3.9/site-packages/kedro/io/data_catalog.py#343\" target=\"_blank\"><span style=\"color: #7f7f7f; text-decoration-color: #7f7f7f\">343</span></a>\n",
       "</pre>\n"
      ],
      "text/plain": [
       "\u001b[2;36m[01/09/23 16:07:03]\u001b[0m\u001b[2;36m \u001b[0m\u001b[34mINFO    \u001b[0m Loading data from \u001b[32m'parsed'\u001b[0m \u001b[1m(\u001b[0mSparkDataSet\u001b[1m)\u001b[0m\u001b[33m...\u001b[0m                       \u001b]8;id=45103;file:///Users/kyle_chung/.pyenv/versions/3.9.15/envs/kedro-on-aws/lib/python3.9/site-packages/kedro/io/data_catalog.py\u001b\\\u001b[2mdata_catalog.py\u001b[0m\u001b]8;;\u001b\\\u001b[2m:\u001b[0m\u001b]8;id=305529;file:///Users/kyle_chung/.pyenv/versions/3.9.15/envs/kedro-on-aws/lib/python3.9/site-packages/kedro/io/data_catalog.py#343\u001b\\\u001b[2m343\u001b[0m\u001b]8;;\u001b\\\n"
      ]
     },
     "metadata": {},
     "output_type": "display_data"
    }
   ],
   "source": [
    "parsed = catalog.load(\"parsed\")"
   ]
  },
  {
   "cell_type": "code",
   "execution_count": 27,
   "id": "781f826a",
   "metadata": {},
   "outputs": [
    {
     "name": "stdout",
     "output_type": "stream",
     "text": [
      "2023-01-09 16:19:03          0 parsed/_SUCCESS\n",
      "2023-01-09 16:19:02     105395 parsed/year=2023/month=1/part-00000-0d4adef1-2d6c-4881-8fe7-fce96499cfe5.c000.snappy.parquet\n"
     ]
    }
   ],
   "source": [
    "%%bash -s $bucket\n",
    "aws s3 ls $1/parsed/ --recursive"
   ]
  },
  {
   "cell_type": "code",
   "execution_count": null,
   "id": "7257fd21",
   "metadata": {},
   "outputs": [],
   "source": []
  }
 ],
 "metadata": {
  "kernelspec": {
   "display_name": "Kedro (iris)",
   "language": "python",
   "name": "kedro_iris"
  },
  "language_info": {
   "codemirror_mode": {
    "name": "ipython",
    "version": 3
   },
   "file_extension": ".py",
   "mimetype": "text/x-python",
   "name": "python",
   "nbconvert_exporter": "python",
   "pygments_lexer": "ipython3",
   "version": "3.9.15"
  }
 },
 "nbformat": 4,
 "nbformat_minor": 5
}
